{
 "cells": [
  {
   "cell_type": "markdown",
   "metadata": {},
   "source": [
    "# READING DATA#"
   ]
  },
  {
   "cell_type": "markdown",
   "metadata": {},
   "source": [
    "We load the CSV file in a dataframe data structure."
   ]
  },
  {
   "cell_type": "code",
   "execution_count": 2,
   "metadata": {},
   "outputs": [],
   "source": [
    "import pandas as pd\n",
    "import matplotlib.pyplot as plt"
   ]
  },
  {
   "cell_type": "code",
   "execution_count": 3,
   "metadata": {},
   "outputs": [
    {
     "data": {
      "text/plain": [
       "\"Explanation\\nWhy the edits made under my username Hardcore Metallica Fan were reverted? They weren't vandalisms, just closure on some GAs after I voted at New York Dolls FAC. And please don't remove the template from the talk page since I'm retired now.89.205.38.27\""
      ]
     },
     "execution_count": 3,
     "metadata": {},
     "output_type": "execute_result"
    }
   ],
   "source": [
    "train = pd.read_csv('train.csv')\n",
    "\n",
    "train.iloc[0][1] #to assess specific elements"
   ]
  },
  {
   "cell_type": "code",
   "execution_count": 4,
   "metadata": {},
   "outputs": [
    {
     "data": {
      "text/plain": [
       "id                                                0005300084f90edc\n",
       "comment_text     \"\\nFair use rationale for Image:Wonju.jpg\\n\\nT...\n",
       "toxic                                                            0\n",
       "severe_toxic                                                     0\n",
       "obscene                                                          0\n",
       "threat                                                           0\n",
       "insult                                                           0\n",
       "identity_hate                                                    0\n",
       "Name: 10, dtype: object"
      ]
     },
     "execution_count": 4,
     "metadata": {},
     "output_type": "execute_result"
    }
   ],
   "source": [
    "train.iloc[10]"
   ]
  },
  {
   "cell_type": "markdown",
   "metadata": {},
   "source": [
    "# EXPLORING THE TRAINING SET"
   ]
  },
  {
   "cell_type": "markdown",
   "metadata": {},
   "source": [
    "We save in the numerosity of each target class in the training set in a dictionary data structure and we plot the results. We add a class called 'non_offending' to label all the comments that are not considered offensive, i.e. that have all the six original labels set to 0."
   ]
  },
  {
   "cell_type": "code",
   "execution_count": 23,
   "metadata": {},
   "outputs": [
    {
     "name": "stdout",
     "output_type": "stream",
     "text": [
      "{'severe_toxic': 1595, 'identity_hate': 1405, 'obscene': 8449, 'insult': 7877, 'threat': 478, 'toxic': 15294, 'non_offending': 143346}\n"
     ]
    }
   ],
   "source": [
    "i = 0\n",
    "dic = {'toxic':0, 'severe_toxic':0, 'obscene':0, 'threat':0, 'insult':0, 'identity_hate':0, 'non_offending':0}\n",
    "while i<len(train):\n",
    "    flag = False\n",
    "    for key in dic:\n",
    "        if key != 'non_offending' and train.iloc[i][key]==1:\n",
    "            dic[key]+=1\n",
    "            flag = True\n",
    "    if flag == False:\n",
    "        dic['non_offending']+=1\n",
    "    i+=1\n",
    "print(dic)"
   ]
  },
  {
   "cell_type": "markdown",
   "metadata": {},
   "source": [
    "It is important to note that classes can overlap, i.e. a comment can belong to more than one of the offending classes, meaning that the sum of the values in the defined dictionary is greater than the number of the total comments present in the training set. "
   ]
  },
  {
   "cell_type": "code",
   "execution_count": 6,
   "metadata": {},
   "outputs": [
    {
     "name": "stdout",
     "output_type": "stream",
     "text": [
      "159571\n"
     ]
    }
   ],
   "source": [
    "print(len(train))"
   ]
  },
  {
   "cell_type": "code",
   "execution_count": 32,
   "metadata": {},
   "outputs": [
    {
     "data": {
      "image/png": "[encoded data removed]",
      "text/plain": [
       "<matplotlib.figure.Figure at 0x112272dd0>"
      ]
     },
     "metadata": {},
     "output_type": "display_data"
    }
   ],
   "source": [
    "#1st subplot: all classes\n",
    "names1 = list(dic.keys())\n",
    "values1 = list(dic.values())\n",
    "\n",
    "\n",
    "plt.subplot(1, 2, 1)\n",
    "\n",
    "plt.bar(range(1,8), values1, color = 'b')\n",
    "#plt.title(\"Numerosity of classes in the training set\")\n",
    "plt.ylabel(\"Classes Numerosity\")\n",
    "plt.xticks(range(1,8),names1, rotation=50)\n",
    "\n",
    "\n",
    "#2nd subplot: only the 6 original classes\n",
    "names2 = [k for k in dic.keys() if k!='non_offending']\n",
    "values2 = [dic[k] for k in dic if k!='non_offending']\n",
    "\n",
    "plt.subplot(1, 2, 2)\n",
    "\n",
    "plt.bar(range(1,7), values2, color = 'b')\n",
    "#plt.title(\"Numerosity of classes in the training set\")\n",
    "plt.ylabel(\"Classes Numerosity\")\n",
    "plt.xticks(range(1,7),names2, rotation=50)\n",
    "\n",
    "plt.show()\n"
   ]
  },
  {
   "cell_type": "markdown",
   "metadata": {},
   "source": [
    "The training set is strongly unbalanced, meaning that the numerosity of the target classes varies a lot: in particular, non-offending comments are much more frequent in the training set than all the other six classes. This may cause problems during the training of the algorithm, because the classifier is more likely to assign new examples to the most numerous classes in the training set, especially if we don't have \"enough\" examples for each class in the training set. "
   ]
  }
 ],
 "metadata": {
  "kernelspec": {
   "display_name": "Python 2",
   "language": "python",
   "name": "python2"
  },
  "language_info": {
   "codemirror_mode": {
    "name": "ipython",
    "version": 2
   },
   "file_extension": ".py",
   "mimetype": "text/x-python",
   "name": "python",
   "nbconvert_exporter": "python",
   "pygments_lexer": "ipython2",
   "version": "2.7.13"
  }
 },
 "nbformat": 4,
 "nbformat_minor": 2
}
