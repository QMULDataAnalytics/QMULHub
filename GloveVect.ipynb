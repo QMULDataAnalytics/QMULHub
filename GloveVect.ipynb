{
 "cells": [
  {
   "cell_type": "code",
   "execution_count": 12,
   "metadata": {},
   "outputs": [],
   "source": [
    "#maciejkula/glove-python is used for training Glove model with some Corpus and the text of our dataset.\n",
    "#The library files had a bug and fixed using (#71)one of open pull requests of that repo.\n",
    "#A corpus is constructed using word in text8Corpus and our dataset.\n",
    "#The Glove is trained using the constructed corpus and the trained corpus model is saved for fast later usage.\n",
    "import itertools\n",
    "from gensim.models.word2vec import Text8Corpus\n",
    "from glove import Corpus, Glove\n",
    "import preprocess_new\n",
    "from functools import reduce"
   ]
  },
  {
   "cell_type": "code",
   "execution_count": null,
   "metadata": {},
   "outputs": [],
   "source": [
    "preProcessedTrDF= preprocess_new.prepareTrainTestSet('train.csv','test.csv','bow',seperateLabelInfo=1,sampleNum=100,tokenize=1)"
   ]
  },
  {
   "cell_type": "code",
   "execution_count": null,
   "metadata": {},
   "outputs": [],
   "source": [
    "text8corpus=list(map(lambda x: list(map(lambda a: a[0],reduce(list.__add__,list(map(lambda y: preprocess_new.preProcess(y),x))))),list(Text8Corpus('/homes/fo301/text8'))))\n",
    "#sentences = list(itertools.chain(itertools.islice(Text8Corpus('/homes/fo301/text8'),None),preProcessedTrDF['comment_text'].values))\n",
    "sentences = list(itertools.chain(itertools.islice(text8corpus,None),preProcessedTrDF['comment_text'].values))"
   ]
  },
  {
   "cell_type": "code",
   "execution_count": null,
   "metadata": {},
   "outputs": [],
   "source": [
    "corpus = Corpus()\n",
    "corpus.fit(sentences, window=10)\n",
    "#corpus.save('corpus.model')"
   ]
  },
  {
   "cell_type": "code",
   "execution_count": null,
   "metadata": {},
   "outputs": [],
   "source": [
    "glove = Glove(no_components=100, learning_rate=0.05)\n",
    "glove.fit(corpus.matrix, epochs=30, no_threads=4, verbose=True)\n",
    "glove.add_dictionary(corpus.dictionary)\n",
    "#glove.save('glove.model')"
   ]
  },
  {
   "cell_type": "code",
   "execution_count": 13,
   "metadata": {},
   "outputs": [],
   "source": [
    "#corpus = Corpus.load('corpus.model')\n",
    "#glove = Glove.load('glove.model')"
   ]
  }
 ],
 "metadata": {
  "kernelspec": {
   "display_name": "Python 3",
   "language": "python",
   "name": "python3"
  },
  "language_info": {
   "codemirror_mode": {
    "name": "ipython",
    "version": 3
   },
   "file_extension": ".py",
   "mimetype": "text/x-python",
   "name": "python",
   "nbconvert_exporter": "python",
   "pygments_lexer": "ipython3",
   "version": "3.4.5"
  }
 },
 "nbformat": 4,
 "nbformat_minor": 2
}
