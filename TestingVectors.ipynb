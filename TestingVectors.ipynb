{
 "cells": [
  {
   "cell_type": "code",
   "execution_count": null,
   "metadata": {},
   "outputs": [],
   "source": [
    "import wordstovec as wtv\n",
    "import preprocess_new as pre\n",
    "\n",
    "preProcessedTrainDF = pre.prepareTrainTestSet('train.csv','test.csv','word2vec',seperateLabelInfo=1,sampleNum=100)\n",
    "sent2vec = []\n",
    "sent2vec = wtv.WordsToVecFunction(preProcessedTrainDF)"
   ]
  },
  {
   "cell_type": "code",
   "execution_count": null,
   "metadata": {},
   "outputs": [],
   "source": [
    "# sent2vec contains rows [i] with [0]: the vector and [0]: the labels \n",
    "print(sent2vec[6][1])"
   ]
  },
  {
   "cell_type": "code",
   "execution_count": null,
   "metadata": {},
   "outputs": [],
   "source": [
    "# The below is for testing "
   ]
  },
  {
   "cell_type": "code",
   "execution_count": null,
   "metadata": {},
   "outputs": [],
   "source": [
    "import pandas as pd"
   ]
  },
  {
   "cell_type": "code",
   "execution_count": null,
   "metadata": {},
   "outputs": [],
   "source": [
    "vect = pd.read_csv('trainV2.csv')"
   ]
  },
  {
   "cell_type": "code",
   "execution_count": null,
   "metadata": {
    "scrolled": true
   },
   "outputs": [],
   "source": [
    "#print(vect.iloc[5][1])\n",
    "numElements = len(vect)\n",
    "for i in range(0,numElements):\n",
    "             print(vect.iloc[i][1])"
   ]
  },
  {
   "cell_type": "code",
   "execution_count": null,
   "metadata": {},
   "outputs": [],
   "source": [
    "numElements = len(vect)\n",
    "myList = []\n",
    "myLabels = []\n",
    "\n",
    "for x in range(numElements):\n",
    "    myList.append(vect.iloc[x][0])\n",
    "    myLabels.append([vect.iloc[x][i] for i in range(2,8)])"
   ]
  },
  {
   "cell_type": "code",
   "execution_count": null,
   "metadata": {},
   "outputs": [],
   "source": [
    "import csv\n",
    "\n",
    "with open('trainV2.csv') as csvfile:\n",
    "    rows = csv.reader(csvfile)\n",
    "    res = list(zip(*rows))\n",
    "    print(res[1])"
   ]
  },
  {
   "cell_type": "code",
   "execution_count": null,
   "metadata": {},
   "outputs": [],
   "source": [
    "import csv \n",
    "myList = []\n",
    "myLabels = []\n",
    "with open('trainV2.csv', 'r') as f:  #opens PW file\n",
    "    reader = csv.reader(f)\n",
    "    # Print every value of every row. \n",
    "    for row in reader:\n",
    "            myList.append(row[0])\n",
    "            myLabels.append(row[1])\n",
    "            \n",
    "print(myLabels[0])"
   ]
  },
  {
   "cell_type": "code",
   "execution_count": 7,
   "metadata": {},
   "outputs": [],
   "source": [
    "import wordstovec as wtv\n",
    "import preprocess_new as pre\n",
    "\n",
    "preProcessedTrainDF = pre.prepareTrainTestSet('train.csv','test.csv','word2vec',seperateLabelInfo=1,sampleNum=100)\n",
    "sent2vec = []\n",
    "sent2vec = wtv.WordsToVecFunction(preProcessedTrainDF)\n"
   ]
  },
  {
   "cell_type": "code",
   "execution_count": 24,
   "metadata": {},
   "outputs": [
    {
     "name": "stdout",
     "output_type": "stream",
     "text": [
      "[1, 1, 1, 0, 1, 0]\n"
     ]
    }
   ],
   "source": [
    "# sent2vec contains rows [i] with [0]: the vector and [0]: the labels \n",
    "print(sent2vec[6][1])"
   ]
  },
  {
   "cell_type": "code",
   "execution_count": null,
   "metadata": {},
   "outputs": [],
   "source": []
  }
 ],
 "metadata": {
  "kernelspec": {
   "display_name": "Python 3",
   "language": "python",
   "name": "python3"
  },
  "language_info": {
   "codemirror_mode": {
    "name": "ipython",
    "version": 3
   },
   "file_extension": ".py",
   "mimetype": "text/x-python",
   "name": "python",
   "nbconvert_exporter": "python",
   "pygments_lexer": "ipython3",
   "version": "3.6.3"
  }
 },
 "nbformat": 4,
 "nbformat_minor": 2
}
