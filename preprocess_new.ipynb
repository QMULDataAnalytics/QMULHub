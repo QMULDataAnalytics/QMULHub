{
 "cells": [
  {
   "cell_type": "markdown",
   "metadata": {},
   "source": [
    "# READ DATA####"
   ]
  },
  {
   "cell_type": "markdown",
   "metadata": {},
   "source": [
    "Load the CSV file in a dataframe object."
   ]
  },
  {
   "cell_type": "code",
   "execution_count": 4,
   "metadata": {},
   "outputs": [],
   "source": [
    "import pandas as pd\n",
    "import re\n",
    "import nltk\n",
    "import string\n",
    "#from nltk.corpus import stopwords"
   ]
  },
  {
   "cell_type": "code",
   "execution_count": 5,
   "metadata": {},
   "outputs": [],
   "source": [
    "trainDF,testDF = [],[]"
   ]
  },
  {
   "cell_type": "code",
   "execution_count": 6,
   "metadata": {},
   "outputs": [],
   "source": [
    "# Input : trainCsvPath, testCsvPath\n",
    "# Output: (trainDF,testDF)\n",
    "def loadData(trainCsvPath,testCsvPath):\n",
    "    trainDF = pd.read_csv(trainCsvPath,header=0)\n",
    "    testDF = pd.read_csv(testCsvPath,header=0)\n",
    "    return(trainDF,testDF)"
   ]
  },
  {
   "cell_type": "code",
   "execution_count": 7,
   "metadata": {},
   "outputs": [],
   "source": [
    "# TEXT PREPROCESSING AND FEATURE VECTORIZATION\n",
    "\n",
    "# Input: a string of one review\n",
    "# Output: tokens of n-grams\n",
    "\n",
    "def preProcess(text):\n",
    "    # Should return a list of tokens\n",
    "    stopwords = nltk.corpus.stopwords.words('english')\n",
    "    stopwords.append('') #to remove blank elements \n",
    "    lemmatizer = nltk.WordNetLemmatizer() #lemmatization \n",
    "    stemmer = nltk.PorterStemmer() #stemming\n",
    "    \n",
    "    #remove punctuation\n",
    "    for el in text:\n",
    "        if el in string.punctuation:\n",
    "            text = text.replace(el, ' ')\n",
    "        \n",
    "    tokens = re.split(r\"\\s+\",text) #tokenisation\n",
    "    tokens = [t.lower() for t in tokens] #lower case\n",
    "    tokens = [item for item in tokens if item not in stopwords] #remove stop words \n",
    "    tokens=[lemmatizer.lemmatize(t) for t in tokens] #lemmatizer \n",
    "    tokens = [stemmer.stem(t) for t in tokens] #stemmer\n",
    "\n",
    "    unigrams = list(nltk.ngrams(tokens,1))\n",
    "    #bigrams = list(nltk.ngrams(tokens,2))\n",
    "    #trigrams =  list(nltk.ngrams(tokens,3))\n",
    "    tokens = unigrams #+ bigrams #+ trigrams\n",
    "    \n",
    "    return tokens"
   ]
  },
  {
   "cell_type": "code",
   "execution_count": 12,
   "metadata": {},
   "outputs": [],
   "source": [
    "# Input : trainCsvPath, testCsvPath and the name of the Vectorization Method such as (\"bow\",\"glove\",\"word2vec\"), seperate Label info if 1, num of Samples to process\n",
    "# Output: the train(with label) and test dataset in internal representation\n",
    "def prepareTrainTestSet(trainCsvPath,testCsvPath,vectorizationMethod,seperateLabelInfo=0,sampleNum=0,tokenize=1):\n",
    "    #Load Data\n",
    "    global trainDF,testDF\n",
    "    trainDF,testDF = loadData(trainCsvPath,testCsvPath)\n",
    "    \n",
    "    if (not sampleNum == 0):\n",
    "        trainDF=trainDF[1:sampleNum]\n",
    "        testDF=testDF[1:sampleNum]\n",
    "    \n",
    "    #preProcess the train Dataset\n",
    "    def iterateDF(df):\n",
    "        numElements = len(df)\n",
    "        for i in range(0,numElements):\n",
    "            df.iloc[i,df.columns.get_loc('comment_text')]=preProcess(df.iloc[i,df.columns.get_loc('comment_text')])\n",
    "        return df\n",
    "    if(tokenize==1):\n",
    "        preProcessedTrainDF=iterateDF(trainDF)\n",
    "    else:\n",
    "        preProcessedTrainDF=trainDF\n",
    "    return preProcessedTrainDF"
   ]
  },
  {
   "cell_type": "code",
   "execution_count": 13,
   "metadata": {},
   "outputs": [],
   "source": [
    "preProcessedTrainDF= prepareTrainTestSet('train.csv','test.csv','bow',seperateLabelInfo=1,sampleNum=100)"
   ]
  },
  {
   "cell_type": "code",
   "execution_count": 11,
   "metadata": {},
   "outputs": [
    {
     "data": {
      "text/plain": [
       "id                                                000113f07ec002fd\n",
       "comment_text     [hey, man, realli, tri, edit, war, guy, consta...\n",
       "toxic                                                            0\n",
       "severe_toxic                                                     0\n",
       "obscene                                                          0\n",
       "threat                                                           0\n",
       "insult                                                           0\n",
       "identity_hate                                                    0\n",
       "Name: 2, dtype: object"
      ]
     },
     "execution_count": 11,
     "metadata": {},
     "output_type": "execute_result"
    }
   ],
   "source": [
    "preProcessedTrainDF.iloc[1]#,train.columns.get_loc('comment_text')]\n",
    "#train.iloc[1]#.loc['comment_text']\n",
    "#preProcess(train.iloc[1,train.columns.get_loc('comment_text')])"
   ]
  },
  {
   "cell_type": "code",
   "execution_count": null,
   "metadata": {},
   "outputs": [],
   "source": []
  },
  {
   "cell_type": "code",
   "execution_count": null,
   "metadata": {},
   "outputs": [],
   "source": []
  }
 ],
 "metadata": {
  "kernelspec": {
   "display_name": "Python 3",
   "language": "python",
   "name": "python3"
  },
  "language_info": {
   "codemirror_mode": {
    "name": "ipython",
    "version": 3
   },
   "file_extension": ".py",
   "mimetype": "text/x-python",
   "name": "python",
   "nbconvert_exporter": "python",
   "pygments_lexer": "ipython3",
   "version": "3.4.5"
  }
 },
 "nbformat": 4,
 "nbformat_minor": 2
}
