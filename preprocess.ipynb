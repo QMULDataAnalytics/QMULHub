{
 "cells": [
  {
   "cell_type": "markdown",
   "metadata": {},
   "source": [
    "# READ DATA####"
   ]
  },
  {
   "cell_type": "markdown",
   "metadata": {},
   "source": [
    "Load the CSV file in a dataframe object."
   ]
  },
  {
   "cell_type": "code",
   "execution_count": 97,
   "metadata": {},
   "outputs": [],
   "source": [
    "import pandas as pd\n",
    "import re\n",
    "import nltk\n",
    "#from nltk.corpus import stopwords"
   ]
  },
  {
   "cell_type": "code",
   "execution_count": 98,
   "metadata": {},
   "outputs": [],
   "source": [
    "trainDF,testDF = [],[]"
   ]
  },
  {
   "cell_type": "code",
   "execution_count": 99,
   "metadata": {},
   "outputs": [],
   "source": [
    "def parseReview(line):\n",
    "    # Should return a triple of an integer, a string containing the review, and a string indicating the label\n",
    "    id = line[0]\n",
    "    comment_text= line[1]\n",
    "    toxic = line[2]\n",
    "    severe_toxic=line[3]\n",
    "    obscene=line[4]\n",
    "    threat=line[5]\n",
    "    insult=line[6]\n",
    "    identity_hate=line[7]\n",
    "    return (id, comment_text, toxic, severe_toxic, obscene, threat, insult, identity_hate)"
   ]
  },
  {
   "cell_type": "code",
   "execution_count": 100,
   "metadata": {},
   "outputs": [],
   "source": [
    "# Input : trainCsvPath, testCsvPath\n",
    "# Output: (trainDF,testDF)\n",
    "def loadData(trainCsvPath,testCsvPath):\n",
    "    trainDF = pd.read_csv(trainCsvPath,header=0)\n",
    "    testDF = pd.read_csv(testCsvPath,header=0)\n",
    "    return(trainDF,testDF)"
   ]
  },
  {
   "cell_type": "code",
   "execution_count": 101,
   "metadata": {},
   "outputs": [],
   "source": [
    "# TEXT PREPROCESSING AND FEATURE VECTORIZATION\n",
    "\n",
    "# Input: a string of one review\n",
    "# Output: tokens of n-grams\n",
    "def preProcess(text):\n",
    "    # Should return a list of tokens\n",
    "    # word tokenisation\n",
    "    text = re.sub(r\"(\\w)([.,;:!?'\\\"”\\)])\", r\"\\1 \\2\", text)\n",
    "    text = re.sub(r\"([.,;:!?'\\\"“\\(])(\\w)\", r\"\\1 \\2\", text)\n",
    "    text = re.sub(r\"(\\S)\\1\\1+\",r\"\\1\\1\\1\", text)\n",
    "    tokens = re.split(r\"\\s+\",text)\n",
    "    # normalisation\n",
    "    tokens = [t.lower() for t in tokens]\n",
    "    #stop word removal\n",
    "    stop = nltk.corpus.stopwords.words('english')\n",
    "    tokens = [item for item in tokens if item not in stop]\n",
    "    #stemmer\n",
    "    porter = nltk.PorterStemmer()\n",
    "    tokens = [porter.stem(t) for t in tokens]\n",
    "    #lemmatizer\n",
    "    wnl = nltk.WordNetLemmatizer()\n",
    "    tokens=[wnl.lemmatize(t) for t in tokens]\n",
    "    #bigrams\n",
    "    unigrams = list(nltk.ngrams(tokens,1))\n",
    "    #bigrams = list(nltk.ngrams(tokens,2))\n",
    "    #trigrams =  list(nltk.ngrams(tokens,3))\n",
    "    tokens = unigrams #+ bigrams + trigrams\n",
    "    return tokens"
   ]
  },
  {
   "cell_type": "code",
   "execution_count": 102,
   "metadata": {},
   "outputs": [],
   "source": [
    "# Input : trainCsvPath, testCsvPath and the name of the Vectorization Method such as (\"bow\",\"glove\",\"word2vec\"), seperate Label info if 1, num of Samples to process\n",
    "# Output: the train(with label) and test dataset in internal representation\n",
    "def prepareTrainTestSet(trainCsvPath,testCsvPath,vectorizationMethod,seperateLabelInfo=0,sampleNum=0):\n",
    "    #Load Data\n",
    "    global trainDF,testDF\n",
    "    trainDF,testDF = loadData(trainCsvPath,testCsvPath)\n",
    "    \n",
    "    if (not sampleNum == 0):\n",
    "        trainDF=trainDF[1:sampleNum]\n",
    "        testDF=testDF[1:sampleNum]\n",
    "    \n",
    "    #preProcess the train Dataset\n",
    "    def iterateDF(df):\n",
    "        numElements = len(df)\n",
    "        for i in range(0,numElements):\n",
    "            df.iloc[i,df.columns.get_loc('comment_text')]=preProcess(df.iloc[i,df.columns.get_loc('comment_text')])\n",
    "        return df\n",
    "    preProcessedTrainDF=iterateDF(trainDF)\n",
    "    return preProcessedTrainDF"
   ]
  },
  {
   "cell_type": "code",
   "execution_count": 103,
   "metadata": {},
   "outputs": [],
   "source": [
    "preProcessedTrainDF= prepareTrainTestSet('train.csv','test.csv','bow',seperateLabelInfo=1,sampleNum=100)\n"
   ]
  },
  {
   "cell_type": "code",
   "execution_count": 104,
   "metadata": {},
   "outputs": [
    {
     "data": {
      "text/plain": [
       "id                                                000113f07ec002fd\n",
       "comment_text     [hey, man, ,, ', realli, tri, edit, war, ., ',...\n",
       "toxic                                                            0\n",
       "severe_toxic                                                     0\n",
       "obscene                                                          0\n",
       "threat                                                           0\n",
       "insult                                                           0\n",
       "identity_hate                                                    0\n",
       "Name: 2, dtype: object"
      ]
     },
     "execution_count": 104,
     "metadata": {},
     "output_type": "execute_result"
    }
   ],
   "source": [
    "preProcessedTrainDF.iloc[1]#,train.columns.get_loc('comment_text')]\n",
    "#train.iloc[1]#.loc['comment_text']\n",
    "#preProcess(train.iloc[1,train.columns.get_loc('comment_text')])"
   ]
  },
  {
   "cell_type": "code",
   "execution_count": null,
   "metadata": {},
   "outputs": [],
   "source": []
  }
 ],
 "metadata": {
  "kernelspec": {
   "display_name": "Python 3",
   "language": "python",
   "name": "python3"
  },
  "language_info": {
   "codemirror_mode": {
    "name": "ipython",
    "version": 3
   },
   "file_extension": ".py",
   "mimetype": "text/x-python",
   "name": "python",
   "nbconvert_exporter": "python",
   "pygments_lexer": "ipython3",
   "version": "3.4.5"
  }
 },
 "nbformat": 4,
 "nbformat_minor": 2
}
